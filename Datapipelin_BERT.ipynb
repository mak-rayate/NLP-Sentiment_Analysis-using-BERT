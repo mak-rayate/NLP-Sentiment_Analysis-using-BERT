{
  "nbformat": 4,
  "nbformat_minor": 0,
  "metadata": {
    "colab": {
      "name": "ASS_BERT.ipynb",
      "provenance": [],
      "collapsed_sections": []
    },
    "kernelspec": {
      "display_name": "Python 3",
      "language": "python",
      "name": "python3"
    },
    "language_info": {
      "codemirror_mode": {
        "name": "ipython",
        "version": 3
      },
      "file_extension": ".py",
      "mimetype": "text/x-python",
      "name": "python",
      "nbconvert_exporter": "python",
      "pygments_lexer": "ipython3",
      "version": "3.8.5"
    }
  },
  "cells": [
    {
      "cell_type": "code",
      "metadata": {
        "colab": {
          "base_uri": "https://localhost:8080/"
        },
        "id": "YekiXBv83Kuy",
        "outputId": "877a4ab7-00c0-4084-b41e-90adf1edfa6a"
      },
      "source": [
        "from google.colab import drive\n",
        "drive.mount(\"/content/drive/\")"
      ],
      "execution_count": null,
      "outputs": [
        {
          "output_type": "stream",
          "text": [
            "Drive already mounted at /content/drive/; to attempt to forcibly remount, call drive.mount(\"/content/drive/\", force_remount=True).\n"
          ],
          "name": "stdout"
        }
      ]
    },
    {
      "cell_type": "code",
      "metadata": {
        "id": "5LqNkLekC7zZ",
        "colab": {
          "base_uri": "https://localhost:8080/"
        },
        "outputId": "c6b58b97-c3f0-4900-c3cc-5b4dfb693201"
      },
      "source": [
        "! pip install sentencepiece\n",
        "import pickle\n",
        "import numpy as np\n",
        "import pandas as pd\n",
        "import matplotlib.pyplot as plt\n",
        "import tensorflow as tf\n",
        "import tensorflow_hub as tfhub\n",
        "from tensorflow.keras.models import Model\n",
        "import tokenization as t"
      ],
      "execution_count": null,
      "outputs": [
        {
          "output_type": "stream",
          "text": [
            "Requirement already satisfied: sentencepiece in /usr/local/lib/python3.7/dist-packages (0.1.96)\n"
          ],
          "name": "stdout"
        }
      ]
    },
    {
      "cell_type": "code",
      "metadata": {
        "id": "dPbfBBSnDYyg"
      },
      "source": [
        "#Create a function to a train model\n",
        "def load_model(model_path):\n",
        "  \"\"\"\n",
        "  Loads a saved model from specified path.\n",
        "  \"\"\"\n",
        "  print(f\"Loading saved moodel from : {model_path}\")\n",
        "  # model=tf.keras.models.load_model(model_path, custom_objects={\"KerasLayer\":hub.KerasLayer})\n",
        "  model=tf.keras.models.load_model(model_path,custom_objects={'KerasLayer':tfhub.KerasLayer})\n",
        "\n",
        "  return model"
      ],
      "execution_count": null,
      "outputs": []
    },
    {
      "cell_type": "code",
      "metadata": {
        "colab": {
          "base_uri": "https://localhost:8080/"
        },
        "id": "4B45LjZuClBH",
        "outputId": "5163b4bc-f094-43f6-fc68-a47dd38a86a5"
      },
      "source": [
        "#load a trained  model \n",
        "bert_model=load_model(\"/content/drive/MyDrive/Colab Notebooks/SOAI/pkl_data/20210819-104137-Bert_ass.h5\")"
      ],
      "execution_count": null,
      "outputs": [
        {
          "output_type": "stream",
          "text": [
            "Loading saved moodel from : /content/drive/MyDrive/Colab Notebooks/SOAI/pkl_data/20210819-104137-Bert_ass.h5\n"
          ],
          "name": "stdout"
        }
      ]
    },
    {
      "cell_type": "code",
      "metadata": {
        "id": "4Ab84Bh2z7pA"
      },
      "source": [
        "def test_tokens(text):\n",
        "  T=[]\n",
        "  M=[]\n",
        "  S=[]\n",
        "  tokens=tokenizer.tokenize(text)\n",
        "  if len(tokens) > max_seq_length-2:\n",
        "    tokens=tokens[0:(max_seq_length-2)]\n",
        "  if len(tokens)< max_seq_length-2:\n",
        "    dif=(max_seq_length-2)-len(tokens)\n",
        "  for j in range(dif):\n",
        "    tokens=[*tokens,'[PAD]']\n",
        "  tokens=['[CLS]',*tokens,'[SEP]']\n",
        "  #mask\n",
        "  ms=[]\n",
        "  mask=tokenizer.convert_tokens_to_ids(tokens)\n",
        "  T.append(mask)\n",
        "  for j in mask:\n",
        "    if j>0:\n",
        "      ms.append(1)\n",
        "    else:\n",
        "      ms.append(0)\n",
        "  M.append(ms)\n",
        "    \n",
        "    # segment\n",
        "  z=[]\n",
        "  S.append(np.zeros(max_seq_length))\n",
        "  return np.asarray(T,dtype=float),np.asarray(M,dtype=float),np.asarray(S)"
      ],
      "execution_count": null,
      "outputs": []
    },
    {
      "cell_type": "code",
      "metadata": {
        "id": "fQzXD_o6o-h7"
      },
      "source": [
        "text_to_test=\"It is a happy sunny day \""
      ],
      "execution_count": null,
      "outputs": []
    },
    {
      "cell_type": "code",
      "metadata": {
        "id": "NpPQoYRooI-7"
      },
      "source": [
        "def replacehtml(x):\n",
        "  x=x.replace(\"<+[\\w+]+>\",\"\")\n",
        "  return x"
      ],
      "execution_count": null,
      "outputs": []
    },
    {
      "cell_type": "code",
      "metadata": {
        "id": "RvV3hZ0ONUc0"
      },
      "source": [
        "max_seq_length = 60\n",
        "test_token = tf.keras.layers.Input(shape=(max_seq_length,), dtype=tf.int32, name=\"test_token\")\n",
        "test_mask = tf.keras.layers.Input(shape=(max_seq_length,), dtype=tf.int32, name=\"test_mask\")\n",
        "test_segment = tf.keras.layers.Input(shape=(max_seq_length,), dtype=tf.int32, name=\"test_segment\")"
      ],
      "execution_count": null,
      "outputs": []
    },
    {
      "cell_type": "code",
      "metadata": {
        "id": "ylvk9zHPMmKD"
      },
      "source": [
        "#bert layer \n",
        "bert_layer = tfhub.KerasLayer(\"https://tfhub.dev/tensorflow/bert_en_uncased_L-12_H-768_A-12/1\", trainable=False)\n",
        "pooled_output, sequence_output = bert_layer([test_token, test_mask, test_segment])\n",
        "bert_model_machine = Model(inputs=[test_token, test_mask, test_segment], outputs=pooled_output)"
      ],
      "execution_count": null,
      "outputs": []
    },
    {
      "cell_type": "code",
      "metadata": {
        "id": "OsULiwCqMl0q"
      },
      "source": [
        "vocab_file = bert_layer.resolved_object.vocab_file.asset_path.numpy()\n",
        "do_lower_case = bert_layer.resolved_object.do_lower_case.numpy()\n",
        "tokenizer=t.FullTokenizer(vocab_file,do_lower_case)"
      ],
      "execution_count": null,
      "outputs": []
    },
    {
      "cell_type": "code",
      "metadata": {
        "id": "eQJ-8xm7pS8c"
      },
      "source": [
        "preprocess_text=replacehtml(text_to_test)"
      ],
      "execution_count": null,
      "outputs": []
    },
    {
      "cell_type": "code",
      "metadata": {
        "id": "xTESxoA6nwvV"
      },
      "source": [
        "test_token, test_mask ,test_segment=test_tokens(preprocess_text)"
      ],
      "execution_count": null,
      "outputs": []
    },
    {
      "cell_type": "code",
      "metadata": {
        "id": "d3Rx9n5KSsTX"
      },
      "source": [
        "# bert_model_machine = load_model(\"/content/drive/MyDrive/Colab Notebooks/SOAI/pkl_data/20210821-145347-demo_bert.h5\")"
      ],
      "execution_count": null,
      "outputs": []
    },
    {
      "cell_type": "code",
      "metadata": {
        "id": "udOYqfO_qAyS",
        "colab": {
          "base_uri": "https://localhost:8080/"
        },
        "outputId": "a0c3dfc1-94cb-4162-c8b9-c119748410d9"
      },
      "source": [
        "X_test_pooled_output=bert_model_machine.predict([test_token, test_mask ,test_segment])"
      ],
      "execution_count": null,
      "outputs": [
        {
          "output_type": "stream",
          "text": [
            "WARNING:tensorflow:5 out of the last 5 calls to <function Model.make_predict_function.<locals>.predict_function at 0x7fa146001200> triggered tf.function retracing. Tracing is expensive and the excessive number of tracings could be due to (1) creating @tf.function repeatedly in a loop, (2) passing tensors with different shapes, (3) passing Python objects instead of tensors. For (1), please define your @tf.function outside of the loop. For (2), @tf.function has experimental_relax_shapes=True option that relaxes argument shapes that can avoid unnecessary retracing. For (3), please refer to https://www.tensorflow.org/guide/function#controlling_retracing and https://www.tensorflow.org/api_docs/python/tf/function for  more details.\n"
          ],
          "name": "stdout"
        },
        {
          "output_type": "stream",
          "text": [
            "WARNING:tensorflow:5 out of the last 5 calls to <function Model.make_predict_function.<locals>.predict_function at 0x7fa146001200> triggered tf.function retracing. Tracing is expensive and the excessive number of tracings could be due to (1) creating @tf.function repeatedly in a loop, (2) passing tensors with different shapes, (3) passing Python objects instead of tensors. For (1), please define your @tf.function outside of the loop. For (2), @tf.function has experimental_relax_shapes=True option that relaxes argument shapes that can avoid unnecessary retracing. For (3), please refer to https://www.tensorflow.org/guide/function#controlling_retracing and https://www.tensorflow.org/api_docs/python/tf/function for  more details.\n"
          ],
          "name": "stderr"
        }
      ]
    },
    {
      "cell_type": "code",
      "metadata": {
        "id": "2jKu0V-6OgWl",
        "colab": {
          "base_uri": "https://localhost:8080/"
        },
        "outputId": "aa6bdfa3-edad-45af-9fb3-061b40e3b3bf"
      },
      "source": [
        "bert_prediction=bert_model.predict(X_test_pooled_output)"
      ],
      "execution_count": null,
      "outputs": [
        {
          "output_type": "stream",
          "text": [
            "WARNING:tensorflow:6 out of the last 6 calls to <function Model.make_predict_function.<locals>.predict_function at 0x7fa19e3f6cb0> triggered tf.function retracing. Tracing is expensive and the excessive number of tracings could be due to (1) creating @tf.function repeatedly in a loop, (2) passing tensors with different shapes, (3) passing Python objects instead of tensors. For (1), please define your @tf.function outside of the loop. For (2), @tf.function has experimental_relax_shapes=True option that relaxes argument shapes that can avoid unnecessary retracing. For (3), please refer to https://www.tensorflow.org/guide/function#controlling_retracing and https://www.tensorflow.org/api_docs/python/tf/function for  more details.\n"
          ],
          "name": "stdout"
        },
        {
          "output_type": "stream",
          "text": [
            "WARNING:tensorflow:6 out of the last 6 calls to <function Model.make_predict_function.<locals>.predict_function at 0x7fa19e3f6cb0> triggered tf.function retracing. Tracing is expensive and the excessive number of tracings could be due to (1) creating @tf.function repeatedly in a loop, (2) passing tensors with different shapes, (3) passing Python objects instead of tensors. For (1), please define your @tf.function outside of the loop. For (2), @tf.function has experimental_relax_shapes=True option that relaxes argument shapes that can avoid unnecessary retracing. For (3), please refer to https://www.tensorflow.org/guide/function#controlling_retracing and https://www.tensorflow.org/api_docs/python/tf/function for  more details.\n"
          ],
          "name": "stderr"
        }
      ]
    },
    {
      "cell_type": "code",
      "metadata": {
        "id": "7jfIJTxqoJ8z"
      },
      "source": [
        "cls=bert_prediction.argmax(axis=-1)\n",
        "proab=bert_prediction[0][cls]"
      ],
      "execution_count": null,
      "outputs": []
    },
    {
      "cell_type": "code",
      "metadata": {
        "id": "uhBHDANjoKLL",
        "colab": {
          "base_uri": "https://localhost:8080/"
        },
        "outputId": "9128563d-2b21-4d38-b2b8-cbc53f892682"
      },
      "source": [
        "if cls==1:\n",
        "  print(f\"The review is \\n ***{text_to_test}***\\n The model predcited that the review is POSITIVE and probablity is {proab} \")\n",
        "else:\n",
        "  print(f\"The review is \\n ***{text_to_test}***\\n The model predcited that the review is Negative and probablity is {proab} \")"
      ],
      "execution_count": null,
      "outputs": [
        {
          "output_type": "stream",
          "text": [
            "The review is \n",
            " ***It is a happy sunny day ***\n",
            " The model predcited that the review is POSITIVE and probablity is [0.9993554] \n"
          ],
          "name": "stdout"
        }
      ]
    },
    {
      "cell_type": "code",
      "metadata": {
        "id": "z2uBhSUjoKd7"
      },
      "source": [
        ""
      ],
      "execution_count": null,
      "outputs": []
    },
    {
      "cell_type": "code",
      "metadata": {
        "id": "iiUCJHs8eHlm"
      },
      "source": [
        ""
      ],
      "execution_count": null,
      "outputs": []
    },
    {
      "cell_type": "code",
      "metadata": {
        "id": "QrCqkylTeamS"
      },
      "source": [
        ""
      ],
      "execution_count": null,
      "outputs": []
    }
  ]
}